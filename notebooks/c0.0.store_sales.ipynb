{
 "cells": [
  {
   "cell_type": "markdown",
   "id": "5dc96b86",
   "metadata": {},
   "source": [
    "# Planning Project"
   ]
  },
  {
   "cell_type": "markdown",
   "id": "91fd2211",
   "metadata": {},
   "source": [
    "### Objetivo:\n",
    "    * "
   ]
  },
  {
   "cell_type": "markdown",
   "id": "f317bb45",
   "metadata": {},
   "source": [
    "# 0.0. Imports"
   ]
  },
  {
   "cell_type": "markdown",
   "id": "c33380c8",
   "metadata": {},
   "source": [
    "## 0.1. Frameworks"
   ]
  },
  {
   "cell_type": "code",
   "execution_count": 1,
   "id": "881a9246",
   "metadata": {},
   "outputs": [],
   "source": [
    "import pandas as pd\n",
    "import numpy as np\n",
    "import seaborn as sns\n",
    "import statistics\n",
    "\n",
    "from matplotlib import pyplot as plt\n",
    "from IPython.display import HTML"
   ]
  },
  {
   "cell_type": "markdown",
   "id": "f6e3c094",
   "metadata": {},
   "source": [
    "## 0.2. Helper Functions"
   ]
  },
  {
   "cell_type": "code",
   "execution_count": 2,
   "id": "6d6d0631",
   "metadata": {},
   "outputs": [
    {
     "name": "stdout",
     "output_type": "stream",
     "text": [
      "Populating the interactive namespace from numpy and matplotlib\n"
     ]
    },
    {
     "data": {
      "text/html": [
       "<style>.container{width:100% !important;}</style>"
      ],
      "text/plain": [
       "<IPython.core.display.HTML object>"
      ]
     },
     "metadata": {},
     "output_type": "display_data"
    }
   ],
   "source": [
    "def jupyter_settings():\n",
    "    %matplotlib inline\n",
    "    %pylab inline\n",
    "    \n",
    "    plt.style.use('ggplot')\n",
    "    plt.rcParams['figure.figsize'] = [24, 9]\n",
    "    plt.rcParams['font.size'] = 24\n",
    "    \n",
    "    display(HTML('<style>.container{width:100% !important;}</style>'))\n",
    "    pd.options.display.max_columns = None\n",
    "    pd.options.display.max_rows = None\n",
    "    pd.set_option('display.expand_frame_repr', False)\n",
    "    \n",
    "    sns.set()\n",
    "    \n",
    "jupyter_settings()"
   ]
  },
  {
   "cell_type": "markdown",
   "id": "7d71240f",
   "metadata": {},
   "source": [
    "# 1.0. Data"
   ]
  },
  {
   "cell_type": "code",
   "execution_count": 3,
   "id": "e8f06ed8",
   "metadata": {},
   "outputs": [],
   "source": [
    "# Function to import a table and show the dimension\n",
    "def read_desc(path):\n",
    "    df = pd.read_csv(path) # read path\n",
    "    print(path.split('/')[-1] + ':')\n",
    "    print('Number of Rows: {}'.format(df.shape[0]))\n",
    "    print('Number of Columns: {}'.format(df.shape[1]))\n",
    "    print('Columns: {}'.format(df.columns))\n",
    "    print()\n",
    "    return df"
   ]
  },
  {
   "cell_type": "code",
   "execution_count": 4,
   "id": "b2d3e6c9",
   "metadata": {},
   "outputs": [
    {
     "name": "stdout",
     "output_type": "stream",
     "text": [
      "train.csv:\n",
      "Number of Rows: 3000888\n",
      "Number of Columns: 6\n",
      "Columns: Index(['id', 'date', 'store_nbr', 'family', 'sales', 'onpromotion'], dtype='object')\n",
      "\n",
      "holidays_events.csv:\n",
      "Number of Rows: 350\n",
      "Number of Columns: 6\n",
      "Columns: Index(['date', 'type', 'locale', 'locale_name', 'description', 'transferred'], dtype='object')\n",
      "\n",
      "oil.csv:\n",
      "Number of Rows: 1218\n",
      "Number of Columns: 2\n",
      "Columns: Index(['date', 'dcoilwtico'], dtype='object')\n",
      "\n",
      "stores.csv:\n",
      "Number of Rows: 54\n",
      "Number of Columns: 5\n",
      "Columns: Index(['store_nbr', 'city', 'state', 'type', 'cluster'], dtype='object')\n",
      "\n",
      "transactions.csv:\n",
      "Number of Rows: 83488\n",
      "Number of Columns: 3\n",
      "Columns: Index(['date', 'store_nbr', 'transactions'], dtype='object')\n",
      "\n"
     ]
    }
   ],
   "source": [
    "# df_train\n",
    "path_train = '/home/tadeu/Documentos/data/Store_Sales/train.csv'\n",
    "df_train = read_desc(path_train)\n",
    "\n",
    "# df_holidays\n",
    "path_holidays = '/home/tadeu/Documentos/data/Store_Sales/holidays_events.csv'\n",
    "df_holidays = read_desc(path_holidays)\n",
    "\n",
    "# df_oil\n",
    "path_oil = '/home/tadeu/Documentos/data/Store_Sales/oil.csv'\n",
    "df_oil = read_desc(path_oil)\n",
    "\n",
    "# df_stores\n",
    "path_stores = '/home/tadeu/Documentos/data/Store_Sales/stores.csv'\n",
    "df_stores = read_desc(path_stores)\n",
    "\n",
    "# df_transactions\n",
    "path_transactions = '/home/tadeu/Documentos/data/Store_Sales/transactions.csv'\n",
    "df_transactions = read_desc(path_transactions)"
   ]
  },
  {
   "attachments": {
    "image.png": {
     "image/png": "[encoded data removed]"
    }
   },
   "cell_type": "markdown",
   "id": "f8af77eb",
   "metadata": {},
   "source": [
    "![image.png](attachment:image.png)"
   ]
  },
  {
   "cell_type": "markdown",
   "id": "df4ba115",
   "metadata": {},
   "source": [
    "## 1.1. Data Changes"
   ]
  },
  {
   "cell_type": "code",
   "execution_count": 5,
   "id": "1deef657",
   "metadata": {},
   "outputs": [],
   "source": [
    "def fast_analysis(df):\n",
    "    # create df with dtypes\n",
    "    df_1 = pd.DataFrame(df.dtypes).reset_index()\n",
    "    df_1.columns = ['column', 'type']\n",
    "    # create df with count of na values\n",
    "    df_2 = pd.DataFrame(df.isna().sum()).reset_index()\n",
    "    df_2.columns = ['column', 'count_na']\n",
    "    \n",
    "    # merge two informations\n",
    "    df_final = pd.merge(df_1, df_2, on='column', how='inner')\n",
    "    \n",
    "    return df_final"
   ]
  },
  {
   "cell_type": "markdown",
   "id": "6607e157",
   "metadata": {},
   "source": [
    "### 1.1.1. df_train"
   ]
  },
  {
   "cell_type": "code",
   "execution_count": 6,
   "id": "20cdf07a",
   "metadata": {},
   "outputs": [
    {
     "data": {
      "text/html": [
       "<div>\n",
       "<style scoped>\n",
       "    .dataframe tbody tr th:only-of-type {\n",
       "        vertical-align: middle;\n",
       "    }\n",
       "\n",
       "    .dataframe tbody tr th {\n",
       "        vertical-align: top;\n",
       "    }\n",
       "\n",
       "    .dataframe thead th {\n",
       "        text-align: right;\n",
       "    }\n",
       "</style>\n",
       "<table border=\"1\" class=\"dataframe\">\n",
       "  <thead>\n",
       "    <tr style=\"text-align: right;\">\n",
       "      <th></th>\n",
       "      <th>column</th>\n",
       "      <th>type</th>\n",
       "      <th>count_na</th>\n",
       "    </tr>\n",
       "  </thead>\n",
       "  <tbody>\n",
       "    <tr>\n",
       "      <th>0</th>\n",
       "      <td>id</td>\n",
       "      <td>int64</td>\n",
       "      <td>0</td>\n",
       "    </tr>\n",
       "    <tr>\n",
       "      <th>1</th>\n",
       "      <td>date</td>\n",
       "      <td>object</td>\n",
       "      <td>0</td>\n",
       "    </tr>\n",
       "    <tr>\n",
       "      <th>2</th>\n",
       "      <td>store_nbr</td>\n",
       "      <td>int64</td>\n",
       "      <td>0</td>\n",
       "    </tr>\n",
       "    <tr>\n",
       "      <th>3</th>\n",
       "      <td>family</td>\n",
       "      <td>object</td>\n",
       "      <td>0</td>\n",
       "    </tr>\n",
       "    <tr>\n",
       "      <th>4</th>\n",
       "      <td>sales</td>\n",
       "      <td>float64</td>\n",
       "      <td>0</td>\n",
       "    </tr>\n",
       "    <tr>\n",
       "      <th>5</th>\n",
       "      <td>onpromotion</td>\n",
       "      <td>float64</td>\n",
       "      <td>0</td>\n",
       "    </tr>\n",
       "  </tbody>\n",
       "</table>\n",
       "</div>"
      ],
      "text/plain": [
       "        column     type  count_na\n",
       "0           id    int64         0\n",
       "1         date   object         0\n",
       "2    store_nbr    int64         0\n",
       "3       family   object         0\n",
       "4        sales  float64         0\n",
       "5  onpromotion  float64         0"
      ]
     },
     "execution_count": 6,
     "metadata": {},
     "output_type": "execute_result"
    }
   ],
   "source": [
    "fast_analysis(df_train)"
   ]
  },
  {
   "cell_type": "code",
   "execution_count": 7,
   "id": "93d92af6",
   "metadata": {},
   "outputs": [],
   "source": [
    "# change dtypes\n",
    "# date -> to datetime\n",
    "df_train['date'] = pd.to_datetime(df_train['date'])\n",
    "\n",
    "# sales -> to int64\n",
    "df_train['sales'] = df_train['sales'].astype('int64')\n",
    "\n",
    "# onpromotion -> to int64\n",
    "df_train['onpromotion'] = df_train['onpromotion'].astype('int64')"
   ]
  },
  {
   "cell_type": "markdown",
   "id": "140e08ad",
   "metadata": {},
   "source": [
    "### 1.1.2. df_stores"
   ]
  },
  {
   "cell_type": "code",
   "execution_count": 8,
   "id": "ab3b12f7",
   "metadata": {},
   "outputs": [
    {
     "data": {
      "text/html": [
       "<div>\n",
       "<style scoped>\n",
       "    .dataframe tbody tr th:only-of-type {\n",
       "        vertical-align: middle;\n",
       "    }\n",
       "\n",
       "    .dataframe tbody tr th {\n",
       "        vertical-align: top;\n",
       "    }\n",
       "\n",
       "    .dataframe thead th {\n",
       "        text-align: right;\n",
       "    }\n",
       "</style>\n",
       "<table border=\"1\" class=\"dataframe\">\n",
       "  <thead>\n",
       "    <tr style=\"text-align: right;\">\n",
       "      <th></th>\n",
       "      <th>column</th>\n",
       "      <th>type</th>\n",
       "      <th>count_na</th>\n",
       "    </tr>\n",
       "  </thead>\n",
       "  <tbody>\n",
       "    <tr>\n",
       "      <th>0</th>\n",
       "      <td>store_nbr</td>\n",
       "      <td>int64</td>\n",
       "      <td>0</td>\n",
       "    </tr>\n",
       "    <tr>\n",
       "      <th>1</th>\n",
       "      <td>city</td>\n",
       "      <td>object</td>\n",
       "      <td>0</td>\n",
       "    </tr>\n",
       "    <tr>\n",
       "      <th>2</th>\n",
       "      <td>state</td>\n",
       "      <td>object</td>\n",
       "      <td>0</td>\n",
       "    </tr>\n",
       "    <tr>\n",
       "      <th>3</th>\n",
       "      <td>type</td>\n",
       "      <td>object</td>\n",
       "      <td>0</td>\n",
       "    </tr>\n",
       "    <tr>\n",
       "      <th>4</th>\n",
       "      <td>cluster</td>\n",
       "      <td>int64</td>\n",
       "      <td>0</td>\n",
       "    </tr>\n",
       "  </tbody>\n",
       "</table>\n",
       "</div>"
      ],
      "text/plain": [
       "      column    type  count_na\n",
       "0  store_nbr   int64         0\n",
       "1       city  object         0\n",
       "2      state  object         0\n",
       "3       type  object         0\n",
       "4    cluster   int64         0"
      ]
     },
     "execution_count": 8,
     "metadata": {},
     "output_type": "execute_result"
    }
   ],
   "source": [
    "fast_analysis(df_stores)"
   ]
  },
  {
   "cell_type": "markdown",
   "id": "7c8004f4",
   "metadata": {},
   "source": [
    "### 1.1.3. df_transactions"
   ]
  },
  {
   "cell_type": "code",
   "execution_count": 9,
   "id": "4d363e7b",
   "metadata": {},
   "outputs": [
    {
     "data": {
      "text/html": [
       "<div>\n",
       "<style scoped>\n",
       "    .dataframe tbody tr th:only-of-type {\n",
       "        vertical-align: middle;\n",
       "    }\n",
       "\n",
       "    .dataframe tbody tr th {\n",
       "        vertical-align: top;\n",
       "    }\n",
       "\n",
       "    .dataframe thead th {\n",
       "        text-align: right;\n",
       "    }\n",
       "</style>\n",
       "<table border=\"1\" class=\"dataframe\">\n",
       "  <thead>\n",
       "    <tr style=\"text-align: right;\">\n",
       "      <th></th>\n",
       "      <th>column</th>\n",
       "      <th>type</th>\n",
       "      <th>count_na</th>\n",
       "    </tr>\n",
       "  </thead>\n",
       "  <tbody>\n",
       "    <tr>\n",
       "      <th>0</th>\n",
       "      <td>date</td>\n",
       "      <td>object</td>\n",
       "      <td>0</td>\n",
       "    </tr>\n",
       "    <tr>\n",
       "      <th>1</th>\n",
       "      <td>store_nbr</td>\n",
       "      <td>int64</td>\n",
       "      <td>0</td>\n",
       "    </tr>\n",
       "    <tr>\n",
       "      <th>2</th>\n",
       "      <td>transactions</td>\n",
       "      <td>int64</td>\n",
       "      <td>0</td>\n",
       "    </tr>\n",
       "  </tbody>\n",
       "</table>\n",
       "</div>"
      ],
      "text/plain": [
       "         column    type  count_na\n",
       "0          date  object         0\n",
       "1     store_nbr   int64         0\n",
       "2  transactions   int64         0"
      ]
     },
     "execution_count": 9,
     "metadata": {},
     "output_type": "execute_result"
    }
   ],
   "source": [
    "fast_analysis(df_transactions)"
   ]
  },
  {
   "cell_type": "code",
   "execution_count": 10,
   "id": "12d4bc77",
   "metadata": {},
   "outputs": [],
   "source": [
    "# change dtypes\n",
    "# date -> to datetime\n",
    "df_transactions['date'] = pd.to_datetime(df_transactions['date'])"
   ]
  },
  {
   "cell_type": "markdown",
   "id": "9986aee5",
   "metadata": {},
   "source": [
    "### 1.1.4. df_holidays"
   ]
  },
  {
   "cell_type": "code",
   "execution_count": 11,
   "id": "38be0a9a",
   "metadata": {},
   "outputs": [
    {
     "data": {
      "text/html": [
       "<div>\n",
       "<style scoped>\n",
       "    .dataframe tbody tr th:only-of-type {\n",
       "        vertical-align: middle;\n",
       "    }\n",
       "\n",
       "    .dataframe tbody tr th {\n",
       "        vertical-align: top;\n",
       "    }\n",
       "\n",
       "    .dataframe thead th {\n",
       "        text-align: right;\n",
       "    }\n",
       "</style>\n",
       "<table border=\"1\" class=\"dataframe\">\n",
       "  <thead>\n",
       "    <tr style=\"text-align: right;\">\n",
       "      <th></th>\n",
       "      <th>column</th>\n",
       "      <th>type</th>\n",
       "      <th>count_na</th>\n",
       "    </tr>\n",
       "  </thead>\n",
       "  <tbody>\n",
       "    <tr>\n",
       "      <th>0</th>\n",
       "      <td>date</td>\n",
       "      <td>object</td>\n",
       "      <td>0</td>\n",
       "    </tr>\n",
       "    <tr>\n",
       "      <th>1</th>\n",
       "      <td>type</td>\n",
       "      <td>object</td>\n",
       "      <td>0</td>\n",
       "    </tr>\n",
       "    <tr>\n",
       "      <th>2</th>\n",
       "      <td>locale</td>\n",
       "      <td>object</td>\n",
       "      <td>0</td>\n",
       "    </tr>\n",
       "    <tr>\n",
       "      <th>3</th>\n",
       "      <td>locale_name</td>\n",
       "      <td>object</td>\n",
       "      <td>0</td>\n",
       "    </tr>\n",
       "    <tr>\n",
       "      <th>4</th>\n",
       "      <td>description</td>\n",
       "      <td>object</td>\n",
       "      <td>0</td>\n",
       "    </tr>\n",
       "    <tr>\n",
       "      <th>5</th>\n",
       "      <td>transferred</td>\n",
       "      <td>bool</td>\n",
       "      <td>0</td>\n",
       "    </tr>\n",
       "  </tbody>\n",
       "</table>\n",
       "</div>"
      ],
      "text/plain": [
       "        column    type  count_na\n",
       "0         date  object         0\n",
       "1         type  object         0\n",
       "2       locale  object         0\n",
       "3  locale_name  object         0\n",
       "4  description  object         0\n",
       "5  transferred    bool         0"
      ]
     },
     "execution_count": 11,
     "metadata": {},
     "output_type": "execute_result"
    }
   ],
   "source": [
    "fast_analysis(df_holidays)"
   ]
  },
  {
   "cell_type": "code",
   "execution_count": 12,
   "id": "0f306f35",
   "metadata": {},
   "outputs": [],
   "source": [
    "# change dtypes\n",
    "# date -> to datetime\n",
    "df_holidays['date'] = pd.to_datetime(df_holidays['date'])"
   ]
  },
  {
   "cell_type": "markdown",
   "id": "1472bd9a",
   "metadata": {},
   "source": [
    "### 1.1.5. df_oil"
   ]
  },
  {
   "cell_type": "code",
   "execution_count": 13,
   "id": "4229391e",
   "metadata": {},
   "outputs": [
    {
     "data": {
      "text/html": [
       "<div>\n",
       "<style scoped>\n",
       "    .dataframe tbody tr th:only-of-type {\n",
       "        vertical-align: middle;\n",
       "    }\n",
       "\n",
       "    .dataframe tbody tr th {\n",
       "        vertical-align: top;\n",
       "    }\n",
       "\n",
       "    .dataframe thead th {\n",
       "        text-align: right;\n",
       "    }\n",
       "</style>\n",
       "<table border=\"1\" class=\"dataframe\">\n",
       "  <thead>\n",
       "    <tr style=\"text-align: right;\">\n",
       "      <th></th>\n",
       "      <th>column</th>\n",
       "      <th>type</th>\n",
       "      <th>count_na</th>\n",
       "    </tr>\n",
       "  </thead>\n",
       "  <tbody>\n",
       "    <tr>\n",
       "      <th>0</th>\n",
       "      <td>date</td>\n",
       "      <td>object</td>\n",
       "      <td>0</td>\n",
       "    </tr>\n",
       "    <tr>\n",
       "      <th>1</th>\n",
       "      <td>dcoilwtico</td>\n",
       "      <td>float64</td>\n",
       "      <td>43</td>\n",
       "    </tr>\n",
       "  </tbody>\n",
       "</table>\n",
       "</div>"
      ],
      "text/plain": [
       "       column     type  count_na\n",
       "0        date   object         0\n",
       "1  dcoilwtico  float64        43"
      ]
     },
     "execution_count": 13,
     "metadata": {},
     "output_type": "execute_result"
    }
   ],
   "source": [
    "fast_analysis(df_oil)"
   ]
  },
  {
   "cell_type": "code",
   "execution_count": 14,
   "id": "12f13580",
   "metadata": {},
   "outputs": [],
   "source": [
    "# change dtypes\n",
    "# date -> to datetime\n",
    "df_oil['date'] = pd.to_datetime(df_oil['date'])"
   ]
  },
  {
   "cell_type": "code",
   "execution_count": 15,
   "id": "ca699f9f",
   "metadata": {},
   "outputs": [],
   "source": [
    "# change all values to rolling mean\n",
    "df_oil['dcoilwtico'] = df_oil['dcoilwtico'].fillna(df_oil['dcoilwtico'].rolling(6,min_periods=1).mean())\n",
    "\n",
    "# change the first value for the second value\n",
    "df_oil['dcoilwtico'] = df_oil['dcoilwtico'].fillna(df_oil.shift(-1)['dcoilwtico'])"
   ]
  },
  {
   "cell_type": "markdown",
   "id": "4b045fbc",
   "metadata": {},
   "source": [
    "#### insert weekend in the time series"
   ]
  },
  {
   "cell_type": "code",
   "execution_count": 16,
   "id": "0f75050b",
   "metadata": {},
   "outputs": [
    {
     "name": "stdout",
     "output_type": "stream",
     "text": [
      "2013-01-01 00:00:00\n",
      "2017-08-31 00:00:00\n"
     ]
    }
   ],
   "source": [
    "# min df_oil\n",
    "print(df_oil['date'].min())\n",
    "\n",
    "# max df_oil\n",
    "print(df_oil['date'].max())"
   ]
  },
  {
   "cell_type": "code",
   "execution_count": 17,
   "id": "7b28dbfb",
   "metadata": {},
   "outputs": [],
   "source": [
    "# creating data with time series\n",
    "df_data = pd.DataFrame(pd.date_range(start='2013-01-01', end='2017-08-31', freq='D'), columns = ['date'])\n",
    "\n",
    "# merging\n",
    "df_oil = pd.merge(df_data, df_oil, how='left', on='date')"
   ]
  },
  {
   "cell_type": "code",
   "execution_count": 18,
   "id": "84437939",
   "metadata": {},
   "outputs": [],
   "source": [
    "# select the last value for weekend values\n",
    "df_oil['dcoilwtico'] = df_oil['dcoilwtico'].fillna(method = 'ffill')"
   ]
  },
  {
   "cell_type": "markdown",
   "id": "3dc7a352",
   "metadata": {},
   "source": [
    "## 1.2. Merge Data"
   ]
  },
  {
   "cell_type": "code",
   "execution_count": 19,
   "id": "96aca6f2",
   "metadata": {},
   "outputs": [],
   "source": [
    "# df_train and df_stores\n",
    "df = pd.merge(df_train, df_stores, on='store_nbr', how='left')"
   ]
  },
  {
   "cell_type": "code",
   "execution_count": 20,
   "id": "eaf75518",
   "metadata": {},
   "outputs": [],
   "source": [
    "# df and df_holidays\n",
    "df = pd.merge(df, df_holidays, on='date', how='left')"
   ]
  },
  {
   "cell_type": "code",
   "execution_count": 21,
   "id": "dc1bb1d4",
   "metadata": {},
   "outputs": [],
   "source": [
    "# df and df_holidays\n",
    "df = pd.merge(df, df_oil, on='date', how='left')"
   ]
  },
  {
   "cell_type": "markdown",
   "id": "f7771074",
   "metadata": {},
   "source": [
    "# 2.0. Data Description"
   ]
  },
  {
   "cell_type": "code",
   "execution_count": 22,
   "id": "60378a74",
   "metadata": {},
   "outputs": [],
   "source": [
    "df2 = df.copy()"
   ]
  },
  {
   "cell_type": "markdown",
   "id": "e7e6aeb4",
   "metadata": {},
   "source": [
    "## 2.1. Data Dimension"
   ]
  },
  {
   "cell_type": "code",
   "execution_count": 23,
   "id": "1f11d44b",
   "metadata": {},
   "outputs": [
    {
     "name": "stdout",
     "output_type": "stream",
     "text": [
      "Number of rows: 3054348\n",
      "Number of columns: 16\n"
     ]
    }
   ],
   "source": [
    "print('Number of rows: {}'.format(df2.shape[0]))\n",
    "print('Number of columns: {}'.format(df2.shape[1]))"
   ]
  },
  {
   "cell_type": "markdown",
   "id": "c0cacb4a",
   "metadata": {},
   "source": [
    "## 2.2. Change Columns"
   ]
  },
  {
   "cell_type": "code",
   "execution_count": 24,
   "id": "bbf52ea9",
   "metadata": {},
   "outputs": [
    {
     "data": {
      "text/plain": [
       "Index(['id', 'date', 'store_nbr', 'family', 'sales', 'onpromotion', 'city',\n",
       "       'state', 'type_x', 'cluster', 'type_y', 'locale', 'locale_name',\n",
       "       'description', 'transferred', 'dcoilwtico'],\n",
       "      dtype='object')"
      ]
     },
     "execution_count": 24,
     "metadata": {},
     "output_type": "execute_result"
    }
   ],
   "source": [
    "df2.columns"
   ]
  },
  {
   "cell_type": "code",
   "execution_count": 25,
   "id": "d71f5ab5",
   "metadata": {},
   "outputs": [],
   "source": [
    "# type_x\n",
    "# type_y\n",
    "\n",
    "df2.rename(columns={'type_x': 'store_type', 'type_y': 'holiday_type'}, inplace=True)"
   ]
  },
  {
   "cell_type": "markdown",
   "id": "03c64919",
   "metadata": {},
   "source": [
    "## 2.3. Check NA"
   ]
  },
  {
   "cell_type": "code",
   "execution_count": 26,
   "id": "a52efb37",
   "metadata": {
    "scrolled": true
   },
   "outputs": [
    {
     "data": {
      "text/plain": [
       "id                    0\n",
       "date                  0\n",
       "store_nbr             0\n",
       "family                0\n",
       "sales                 0\n",
       "onpromotion           0\n",
       "city                  0\n",
       "state                 0\n",
       "store_type            0\n",
       "cluster               0\n",
       "holiday_type    2551824\n",
       "locale          2551824\n",
       "locale_name     2551824\n",
       "description     2551824\n",
       "transferred     2551824\n",
       "dcoilwtico            0\n",
       "dtype: int64"
      ]
     },
     "execution_count": 26,
     "metadata": {},
     "output_type": "execute_result"
    }
   ],
   "source": [
    "df2.isna().sum()"
   ]
  },
  {
   "cell_type": "code",
   "execution_count": 27,
   "id": "4678a4b3",
   "metadata": {},
   "outputs": [],
   "source": [
    "# holiday_type, locale, locale_name, description, transferred -> no holiday\n",
    "df2.fillna(value={'holiday_type': 'no_holiday', 'locale': 'no_holiday', 'locale_name': 'no_holiday', 'description': 'no_holiday', 'transferred': False}, inplace=True)"
   ]
  },
  {
   "cell_type": "code",
   "execution_count": 28,
   "id": "c630555f",
   "metadata": {},
   "outputs": [
    {
     "data": {
      "text/plain": [
       "id                       int64\n",
       "date            datetime64[ns]\n",
       "store_nbr                int64\n",
       "family                  object\n",
       "sales                    int64\n",
       "onpromotion              int64\n",
       "city                    object\n",
       "state                   object\n",
       "store_type              object\n",
       "cluster                  int64\n",
       "holiday_type            object\n",
       "locale                  object\n",
       "locale_name             object\n",
       "description             object\n",
       "transferred               bool\n",
       "dcoilwtico             float64\n",
       "dtype: object"
      ]
     },
     "execution_count": 28,
     "metadata": {},
     "output_type": "execute_result"
    }
   ],
   "source": [
    "df2.dtypes"
   ]
  },
  {
   "cell_type": "markdown",
   "id": "c16a515b",
   "metadata": {},
   "source": [
    "## 2.4. Statistical Description"
   ]
  },
  {
   "cell_type": "code",
   "execution_count": 29,
   "id": "651ace38",
   "metadata": {},
   "outputs": [],
   "source": [
    "def stats_num_describe(num_attributes): # Statistical description of numeric values\n",
    "    stats = num_attributes.describe().T\n",
    "\n",
    "    stats['range'] = num_attributes.apply(lambda x: x.max() - x.min()) # add range to describe\n",
    "    stats['skew'] = num_attributes.apply( lambda x: x.skew()) # add skew to describe\n",
    "    stats['kurtosis'] = num_attributes.apply( lambda x: x.kurtosis()) # add kurtosis to describe\n",
    "    \n",
    "    return stats\n",
    "\n",
    "\n",
    "def stats_cat_describe(cat_attributes): # Satistical description of categorical values\n",
    "    count = pd.DataFrame(cat_attributes.apply(lambda x: len(x))) # creating a count of all values\n",
    "    mode = pd.DataFrame(cat_attributes.apply(lambda x: statistics.mode(x))) # creating a mode of the values\n",
    "    count_values = cat_attributes.apply(lambda x: x.unique().shape[0])\n",
    "\n",
    "    stats = pd.concat([count, mode, count_values], axis=1) # concat\n",
    "    \n",
    "    stats.columns = ['Count', 'Mode', 'Count_cats']\n",
    "    \n",
    "    return stats"
   ]
  },
  {
   "cell_type": "code",
   "execution_count": 30,
   "id": "1dd4ccbf",
   "metadata": {},
   "outputs": [],
   "source": [
    "# dataframe numerical attributes\n",
    "num_attributes = df2[['store_nbr', 'sales', 'onpromotion', 'cluster']]\n",
    "\n",
    "# dataframe categorical attributes\n",
    "cat_attributes = df2[['family', 'city', 'state', 'store_type', 'holiday_type', 'locale', 'locale_name', 'description']]"
   ]
  },
  {
   "cell_type": "markdown",
   "id": "8064f589",
   "metadata": {},
   "source": [
    "### 2.4.1. Num Attributes"
   ]
  },
  {
   "cell_type": "code",
   "execution_count": 31,
   "id": "b58b6d38",
   "metadata": {},
   "outputs": [
    {
     "data": {
      "text/html": [
       "<div>\n",
       "<style scoped>\n",
       "    .dataframe tbody tr th:only-of-type {\n",
       "        vertical-align: middle;\n",
       "    }\n",
       "\n",
       "    .dataframe tbody tr th {\n",
       "        vertical-align: top;\n",
       "    }\n",
       "\n",
       "    .dataframe thead th {\n",
       "        text-align: right;\n",
       "    }\n",
       "</style>\n",
       "<table border=\"1\" class=\"dataframe\">\n",
       "  <thead>\n",
       "    <tr style=\"text-align: right;\">\n",
       "      <th></th>\n",
       "      <th>count</th>\n",
       "      <th>mean</th>\n",
       "      <th>std</th>\n",
       "      <th>min</th>\n",
       "      <th>25%</th>\n",
       "      <th>50%</th>\n",
       "      <th>75%</th>\n",
       "      <th>max</th>\n",
       "      <th>range</th>\n",
       "      <th>skew</th>\n",
       "      <th>kurtosis</th>\n",
       "    </tr>\n",
       "  </thead>\n",
       "  <tbody>\n",
       "    <tr>\n",
       "      <th>store_nbr</th>\n",
       "      <td>3054348.0</td>\n",
       "      <td>27.500000</td>\n",
       "      <td>15.585787</td>\n",
       "      <td>1.0</td>\n",
       "      <td>14.0</td>\n",
       "      <td>27.5</td>\n",
       "      <td>41.0</td>\n",
       "      <td>54.0</td>\n",
       "      <td>53</td>\n",
       "      <td>0.000000</td>\n",
       "      <td>-1.200823</td>\n",
       "    </tr>\n",
       "    <tr>\n",
       "      <th>sales</th>\n",
       "      <td>3054348.0</td>\n",
       "      <td>358.943874</td>\n",
       "      <td>1107.263672</td>\n",
       "      <td>0.0</td>\n",
       "      <td>0.0</td>\n",
       "      <td>11.0</td>\n",
       "      <td>196.0</td>\n",
       "      <td>124717.0</td>\n",
       "      <td>124717</td>\n",
       "      <td>7.500241</td>\n",
       "      <td>165.080457</td>\n",
       "    </tr>\n",
       "    <tr>\n",
       "      <th>onpromotion</th>\n",
       "      <td>3054348.0</td>\n",
       "      <td>34.731661</td>\n",
       "      <td>99.684021</td>\n",
       "      <td>0.0</td>\n",
       "      <td>0.0</td>\n",
       "      <td>1.0</td>\n",
       "      <td>16.0</td>\n",
       "      <td>1006.0</td>\n",
       "      <td>1006</td>\n",
       "      <td>4.812547</td>\n",
       "      <td>26.975609</td>\n",
       "    </tr>\n",
       "    <tr>\n",
       "      <th>cluster</th>\n",
       "      <td>3054348.0</td>\n",
       "      <td>8.481481</td>\n",
       "      <td>4.649735</td>\n",
       "      <td>1.0</td>\n",
       "      <td>4.0</td>\n",
       "      <td>8.5</td>\n",
       "      <td>13.0</td>\n",
       "      <td>17.0</td>\n",
       "      <td>16</td>\n",
       "      <td>0.040087</td>\n",
       "      <td>-1.256245</td>\n",
       "    </tr>\n",
       "  </tbody>\n",
       "</table>\n",
       "</div>"
      ],
      "text/plain": [
       "                 count        mean          std  min   25%   50%    75%       max   range      skew    kurtosis\n",
       "store_nbr    3054348.0   27.500000    15.585787  1.0  14.0  27.5   41.0      54.0      53  0.000000   -1.200823\n",
       "sales        3054348.0  358.943874  1107.263672  0.0   0.0  11.0  196.0  124717.0  124717  7.500241  165.080457\n",
       "onpromotion  3054348.0   34.731661    99.684021  0.0   0.0   1.0   16.0    1006.0    1006  4.812547   26.975609\n",
       "cluster      3054348.0    8.481481     4.649735  1.0   4.0   8.5   13.0      17.0      16  0.040087   -1.256245"
      ]
     },
     "execution_count": 31,
     "metadata": {},
     "output_type": "execute_result"
    }
   ],
   "source": [
    "# describe num_attributes\n",
    "stats_num_describe(num_attributes)"
   ]
  },
  {
   "cell_type": "markdown",
   "id": "77c5cad4",
   "metadata": {},
   "source": [
    "### 2.4.2. Cat Attributes"
   ]
  },
  {
   "cell_type": "code",
   "execution_count": 32,
   "id": "c52fc1ad",
   "metadata": {},
   "outputs": [
    {
     "data": {
      "text/html": [
       "<div>\n",
       "<style scoped>\n",
       "    .dataframe tbody tr th:only-of-type {\n",
       "        vertical-align: middle;\n",
       "    }\n",
       "\n",
       "    .dataframe tbody tr th {\n",
       "        vertical-align: top;\n",
       "    }\n",
       "\n",
       "    .dataframe thead th {\n",
       "        text-align: right;\n",
       "    }\n",
       "</style>\n",
       "<table border=\"1\" class=\"dataframe\">\n",
       "  <thead>\n",
       "    <tr style=\"text-align: right;\">\n",
       "      <th></th>\n",
       "      <th>Count</th>\n",
       "      <th>Mode</th>\n",
       "      <th>Count_cats</th>\n",
       "    </tr>\n",
       "  </thead>\n",
       "  <tbody>\n",
       "    <tr>\n",
       "      <th>family</th>\n",
       "      <td>3054348</td>\n",
       "      <td>AUTOMOTIVE</td>\n",
       "      <td>33</td>\n",
       "    </tr>\n",
       "    <tr>\n",
       "      <th>city</th>\n",
       "      <td>3054348</td>\n",
       "      <td>Quito</td>\n",
       "      <td>22</td>\n",
       "    </tr>\n",
       "    <tr>\n",
       "      <th>state</th>\n",
       "      <td>3054348</td>\n",
       "      <td>Pichincha</td>\n",
       "      <td>16</td>\n",
       "    </tr>\n",
       "    <tr>\n",
       "      <th>store_type</th>\n",
       "      <td>3054348</td>\n",
       "      <td>D</td>\n",
       "      <td>5</td>\n",
       "    </tr>\n",
       "    <tr>\n",
       "      <th>holiday_type</th>\n",
       "      <td>3054348</td>\n",
       "      <td>no_holiday</td>\n",
       "      <td>7</td>\n",
       "    </tr>\n",
       "    <tr>\n",
       "      <th>locale</th>\n",
       "      <td>3054348</td>\n",
       "      <td>no_holiday</td>\n",
       "      <td>4</td>\n",
       "    </tr>\n",
       "    <tr>\n",
       "      <th>locale_name</th>\n",
       "      <td>3054348</td>\n",
       "      <td>no_holiday</td>\n",
       "      <td>25</td>\n",
       "    </tr>\n",
       "    <tr>\n",
       "      <th>description</th>\n",
       "      <td>3054348</td>\n",
       "      <td>no_holiday</td>\n",
       "      <td>102</td>\n",
       "    </tr>\n",
       "  </tbody>\n",
       "</table>\n",
       "</div>"
      ],
      "text/plain": [
       "                Count        Mode  Count_cats\n",
       "family        3054348  AUTOMOTIVE          33\n",
       "city          3054348       Quito          22\n",
       "state         3054348   Pichincha          16\n",
       "store_type    3054348           D           5\n",
       "holiday_type  3054348  no_holiday           7\n",
       "locale        3054348  no_holiday           4\n",
       "locale_name   3054348  no_holiday          25\n",
       "description   3054348  no_holiday         102"
      ]
     },
     "execution_count": 32,
     "metadata": {},
     "output_type": "execute_result"
    }
   ],
   "source": [
    "stats_cat_describe(cat_attributes)"
   ]
  },
  {
   "cell_type": "markdown",
   "id": "2d4f8deb",
   "metadata": {},
   "source": [
    "# 3.0. Feature Engineering"
   ]
  },
  {
   "cell_type": "code",
   "execution_count": 33,
   "id": "946dd5b7",
   "metadata": {},
   "outputs": [],
   "source": [
    "df3 = df2.copy()"
   ]
  },
  {
   "cell_type": "markdown",
   "id": "411c4962",
   "metadata": {},
   "source": [
    "## 3.1. Features - 1 Cycle"
   ]
  },
  {
   "cell_type": "code",
   "execution_count": 78,
   "id": "164e4ee2",
   "metadata": {},
   "outputs": [],
   "source": [
    "# group by day -> sum sales\n",
    "\n",
    "    # first oil + train\n",
    "\n",
    "    # day\n",
    "    # dayofweek\n",
    "    # month\n",
    "    # year\n",
    "    # rolling up\n",
    "    \n",
    "    # mean oil\n",
    "    \n",
    "    # sum promotions\n",
    "    # mean promotions\n",
    "    # rolling up promotions\n",
    "    \n",
    "    # count stores"
   ]
  },
  {
   "cell_type": "code",
   "execution_count": 81,
   "id": "409463e5",
   "metadata": {},
   "outputs": [],
   "source": [
    "# create dataframe\n",
    "df_fe = df3[['date', 'sales']].groupby('date').sum().reset_index().sort_values('date', ascending=True)\n",
    "\n",
    "# train -> data extract_infos\n",
    "# day\n",
    "df_fe['day'] = df_fe['date'].dt.day\n",
    "# week\n",
    "df_fe['week'] = df_fe['date'].dt.isocalendar().week\n",
    "# month\n",
    "df_fe['month'] = df_fe['date'].dt.month\n",
    "# year\n",
    "df_fe['year'] = df_fe['date'].dt.year\n",
    "# dayofweek\n",
    "df_fe['dayofweek'] = df_fe['date'].dt.dayofweek\n",
    "# rolling mean - 7\n",
    "df_fe['rol_7'] = df_fe['sales'].rolling(7).mean()\n",
    "\n",
    "df_fe = df_fe.dropna()"
   ]
  },
  {
   "cell_type": "code",
   "execution_count": 82,
   "id": "4c0275cc",
   "metadata": {},
   "outputs": [
    {
     "data": {
      "text/plain": [
       "date         0\n",
       "sales        0\n",
       "day          0\n",
       "week         0\n",
       "month        0\n",
       "year         0\n",
       "dayofweek    0\n",
       "rol_7        0\n",
       "oil_mean     0\n",
       "oil_rol_7    0\n",
       "dtype: int64"
      ]
     },
     "execution_count": 82,
     "metadata": {},
     "output_type": "execute_result"
    }
   ],
   "source": [
    "# oil -> mean\n",
    "oil_mean = df3[['date', 'dcoilwtico']].groupby('date').mean().reset_index().sort_values('date', ascending=True)\n",
    "# oil -> rolling up\n",
    "oil_mean['oil_rol_7'] = oil_mean['dcoilwtico'].rolling(7).mean()\n",
    "\n",
    "oil_mean.columns = ['date', 'oil_mean', 'oil_rol_7']\n",
    "\n",
    "\n",
    "# merge\n",
    "df_fe = pd.merge(df_fe, oil_mean, how='left', on='date')\n",
    "\n",
    "# check na\n",
    "df_fe.isna().sum()"
   ]
  },
  {
   "cell_type": "code",
   "execution_count": 90,
   "id": "27e88960",
   "metadata": {},
   "outputs": [
    {
     "data": {
      "text/plain": [
       "date               0\n",
       "sales              0\n",
       "day                0\n",
       "week               0\n",
       "month              0\n",
       "year               0\n",
       "dayofweek          0\n",
       "rol_7              0\n",
       "oil_mean           0\n",
       "oil_rol_7          0\n",
       "mean_promotion     0\n",
       "sum_promotion      0\n",
       "promotion_rol_7    0\n",
       "dtype: int64"
      ]
     },
     "execution_count": 90,
     "metadata": {},
     "output_type": "execute_result"
    }
   ],
   "source": [
    "# promotions -> mean\n",
    "df_promo = df3[['date', 'onpromotion']].groupby('date').mean().reset_index().sort_values('date', ascending=True)\n",
    "\n",
    "# promotions -> sum\n",
    "df_promo['sum'] = df3[['date', 'onpromotion']].groupby('date').sum().reset_index().sort_values('date', ascending=True)['onpromotion']\n",
    "\n",
    "# promotions -> rolling mean\n",
    "df_promo['promo_roll_7'] = df_promo['sum'].rolling(7).mean()\n",
    "\n",
    "# rename columns \n",
    "df_promo.columns = ['date', 'mean_promotion', 'sum_promotion', 'promotion_rol_7']\n",
    "\n",
    "# merge\n",
    "df_fe = pd.merge(df_fe, df_promo, how='left', on='date')\n",
    "\n",
    "# check na\n",
    "df_fe.isna().sum()"
   ]
  },
  {
   "cell_type": "code",
   "execution_count": 91,
   "id": "e395b1cf",
   "metadata": {},
   "outputs": [
    {
     "data": {
      "text/html": [
       "<div>\n",
       "<style scoped>\n",
       "    .dataframe tbody tr th:only-of-type {\n",
       "        vertical-align: middle;\n",
       "    }\n",
       "\n",
       "    .dataframe tbody tr th {\n",
       "        vertical-align: top;\n",
       "    }\n",
       "\n",
       "    .dataframe thead th {\n",
       "        text-align: right;\n",
       "    }\n",
       "</style>\n",
       "<table border=\"1\" class=\"dataframe\">\n",
       "  <thead>\n",
       "    <tr style=\"text-align: right;\">\n",
       "      <th></th>\n",
       "      <th>date</th>\n",
       "      <th>sales</th>\n",
       "      <th>day</th>\n",
       "      <th>week</th>\n",
       "      <th>month</th>\n",
       "      <th>year</th>\n",
       "      <th>dayofweek</th>\n",
       "      <th>rol_7</th>\n",
       "      <th>oil_mean</th>\n",
       "      <th>oil_rol_7</th>\n",
       "      <th>mean_promotion</th>\n",
       "      <th>sum_promotion</th>\n",
       "      <th>promotion_rol_7</th>\n",
       "    </tr>\n",
       "  </thead>\n",
       "  <tbody>\n",
       "    <tr>\n",
       "      <th>0</th>\n",
       "      <td>2013-01-07</td>\n",
       "      <td>336014</td>\n",
       "      <td>7</td>\n",
       "      <td>2</td>\n",
       "      <td>1</td>\n",
       "      <td>2013</td>\n",
       "      <td>0</td>\n",
       "      <td>363859.714286</td>\n",
       "      <td>93.20</td>\n",
       "      <td>93.115714</td>\n",
       "      <td>0.0</td>\n",
       "      <td>0</td>\n",
       "      <td>0.0</td>\n",
       "    </tr>\n",
       "    <tr>\n",
       "      <th>1</th>\n",
       "      <td>2013-01-08</td>\n",
       "      <td>318237</td>\n",
       "      <td>8</td>\n",
       "      <td>2</td>\n",
       "      <td>1</td>\n",
       "      <td>2013</td>\n",
       "      <td>1</td>\n",
       "      <td>408963.857143</td>\n",
       "      <td>93.21</td>\n",
       "      <td>93.125714</td>\n",
       "      <td>0.0</td>\n",
       "      <td>0</td>\n",
       "      <td>0.0</td>\n",
       "    </tr>\n",
       "    <tr>\n",
       "      <th>2</th>\n",
       "      <td>2013-01-09</td>\n",
       "      <td>302420</td>\n",
       "      <td>9</td>\n",
       "      <td>2</td>\n",
       "      <td>1</td>\n",
       "      <td>2013</td>\n",
       "      <td>2</td>\n",
       "      <td>381312.142857</td>\n",
       "      <td>93.08</td>\n",
       "      <td>93.117143</td>\n",
       "      <td>0.0</td>\n",
       "      <td>0</td>\n",
       "      <td>0.0</td>\n",
       "    </tr>\n",
       "    <tr>\n",
       "      <th>3</th>\n",
       "      <td>2013-01-10</td>\n",
       "      <td>258875</td>\n",
       "      <td>10</td>\n",
       "      <td>2</td>\n",
       "      <td>1</td>\n",
       "      <td>2013</td>\n",
       "      <td>3</td>\n",
       "      <td>366672.000000</td>\n",
       "      <td>93.81</td>\n",
       "      <td>93.237143</td>\n",
       "      <td>0.0</td>\n",
       "      <td>0</td>\n",
       "      <td>0.0</td>\n",
       "    </tr>\n",
       "    <tr>\n",
       "      <th>4</th>\n",
       "      <td>2013-01-11</td>\n",
       "      <td>289621</td>\n",
       "      <td>11</td>\n",
       "      <td>2</td>\n",
       "      <td>1</td>\n",
       "      <td>2013</td>\n",
       "      <td>4</td>\n",
       "      <td>357425.571429</td>\n",
       "      <td>93.60</td>\n",
       "      <td>93.305714</td>\n",
       "      <td>0.0</td>\n",
       "      <td>0</td>\n",
       "      <td>0.0</td>\n",
       "    </tr>\n",
       "  </tbody>\n",
       "</table>\n",
       "</div>"
      ],
      "text/plain": [
       "        date   sales  day  week  month  year  dayofweek          rol_7  oil_mean  oil_rol_7  mean_promotion  sum_promotion  promotion_rol_7\n",
       "0 2013-01-07  336014    7     2      1  2013          0  363859.714286     93.20  93.115714             0.0              0              0.0\n",
       "1 2013-01-08  318237    8     2      1  2013          1  408963.857143     93.21  93.125714             0.0              0              0.0\n",
       "2 2013-01-09  302420    9     2      1  2013          2  381312.142857     93.08  93.117143             0.0              0              0.0\n",
       "3 2013-01-10  258875   10     2      1  2013          3  366672.000000     93.81  93.237143             0.0              0              0.0\n",
       "4 2013-01-11  289621   11     2      1  2013          4  357425.571429     93.60  93.305714             0.0              0              0.0"
      ]
     },
     "execution_count": 91,
     "metadata": {},
     "output_type": "execute_result"
    }
   ],
   "source": [
    "df_fe.head()"
   ]
  },
  {
   "cell_type": "markdown",
   "id": "7d559987",
   "metadata": {},
   "source": [
    "# 4.0. Filter Data"
   ]
  },
  {
   "cell_type": "code",
   "execution_count": 92,
   "id": "32441328",
   "metadata": {},
   "outputs": [],
   "source": [
    "df4 = df_fe.copy()"
   ]
  },
  {
   "cell_type": "markdown",
   "id": "2681361c",
   "metadata": {},
   "source": [
    "# 5.0. EDA"
   ]
  },
  {
   "cell_type": "code",
   "execution_count": 94,
   "id": "6ec7c394",
   "metadata": {},
   "outputs": [],
   "source": [
    "df5 = df4.copy()"
   ]
  },
  {
   "cell_type": "markdown",
   "id": "356da17f",
   "metadata": {},
   "source": [
    "# 6.0. Data Preparation"
   ]
  },
  {
   "cell_type": "code",
   "execution_count": 95,
   "id": "bb381f51",
   "metadata": {},
   "outputs": [],
   "source": [
    "df6 = df5.copy()"
   ]
  },
  {
   "cell_type": "markdown",
   "id": "be48a257",
   "metadata": {},
   "source": [
    "## 6.1. View Distributions"
   ]
  },
  {
   "cell_type": "code",
   "execution_count": 98,
   "id": "a6281d41",
   "metadata": {},
   "outputs": [
    {
     "data": {
      "image/png": "[encoded data removed]",
      "text/plain": [
       "<Figure size 1728x648 with 16 Axes>"
      ]
     },
     "metadata": {},
     "output_type": "display_data"
    }
   ],
   "source": [
    "df6.hist(bins=50);"
   ]
  },
  {
   "cell_type": "markdown",
   "id": "d0b23345",
   "metadata": {},
   "source": [
    "# 6.0. Feature Selection"
   ]
  },
  {
   "cell_type": "markdown",
   "id": "2de4b44a",
   "metadata": {},
   "source": [
    "# 7.0. Model Trainning"
   ]
  },
  {
   "cell_type": "markdown",
   "id": "eaf0604a",
   "metadata": {},
   "source": [
    "# 8.0. Hyperparameter Fine-tunning"
   ]
  },
  {
   "cell_type": "markdown",
   "id": "5b169528",
   "metadata": {},
   "source": [
    "# 9.0. Performance"
   ]
  },
  {
   "cell_type": "markdown",
   "id": "4fb2afc7",
   "metadata": {},
   "source": [
    "# 10.0. Deploy"
   ]
  },
  {
   "cell_type": "code",
   "execution_count": null,
   "id": "127ce891",
   "metadata": {},
   "outputs": [],
   "source": []
  },
  {
   "cell_type": "code",
   "execution_count": null,
   "id": "137755d5",
   "metadata": {},
   "outputs": [],
   "source": []
  }
 ],
 "metadata": {
  "kernelspec": {
   "display_name": "Python 3 (ipykernel)",
   "language": "python",
   "name": "python3"
  },
  "language_info": {
   "codemirror_mode": {
    "name": "ipython",
    "version": 3
   },
   "file_extension": ".py",
   "mimetype": "text/x-python",
   "name": "python",
   "nbconvert_exporter": "python",
   "pygments_lexer": "ipython3",
   "version": "3.8.10"
  }
 },
 "nbformat": 4,
 "nbformat_minor": 5
}
